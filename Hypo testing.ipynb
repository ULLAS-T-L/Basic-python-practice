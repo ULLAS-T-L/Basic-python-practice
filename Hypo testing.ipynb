{
 "cells": [
  {
   "cell_type": "markdown",
   "metadata": {},
   "source": [
    "# Hypothesis Testing\n"
   ]
  },
  {
   "cell_type": "code",
   "execution_count": 1,
   "metadata": {},
   "outputs": [],
   "source": [
    "import pandas as pd\n",
    "import scipy.stats as stats\n",
    "import numpy as np"
   ]
  },
  {
   "cell_type": "code",
   "execution_count": 4,
   "metadata": {},
   "outputs": [],
   "source": [
    "data = pd.read_csv(r'C:\\Users\\prana\\Desktop\\Quarntine\\AnalatyicsLab\\Python\\3._Case_Studies_Final_Projects_-_Python\\8. Basic Stats - Case Study-2\\Testing_Of_Hypothesis.csv')"
   ]
  },
  {
   "cell_type": "code",
   "execution_count": 5,
   "metadata": {},
   "outputs": [
    {
     "data": {
      "text/html": [
       "<div>\n",
       "<style scoped>\n",
       "    .dataframe tbody tr th:only-of-type {\n",
       "        vertical-align: middle;\n",
       "    }\n",
       "\n",
       "    .dataframe tbody tr th {\n",
       "        vertical-align: top;\n",
       "    }\n",
       "\n",
       "    .dataframe thead th {\n",
       "        text-align: right;\n",
       "    }\n",
       "</style>\n",
       "<table border=\"1\" class=\"dataframe\">\n",
       "  <thead>\n",
       "    <tr style=\"text-align: right;\">\n",
       "      <th></th>\n",
       "      <th>Sr No</th>\n",
       "      <th>S_Cust_id</th>\n",
       "      <th>Samsung Score</th>\n",
       "      <th>Apple_Cust_id</th>\n",
       "      <th>Apple_Score</th>\n",
       "    </tr>\n",
       "  </thead>\n",
       "  <tbody>\n",
       "    <tr>\n",
       "      <th>0</th>\n",
       "      <td>1</td>\n",
       "      <td>S336499</td>\n",
       "      <td>94</td>\n",
       "      <td>A336525</td>\n",
       "      <td>82</td>\n",
       "    </tr>\n",
       "    <tr>\n",
       "      <th>1</th>\n",
       "      <td>2</td>\n",
       "      <td>S73004</td>\n",
       "      <td>99</td>\n",
       "      <td>A73011</td>\n",
       "      <td>83</td>\n",
       "    </tr>\n",
       "    <tr>\n",
       "      <th>2</th>\n",
       "      <td>3</td>\n",
       "      <td>S79537</td>\n",
       "      <td>74</td>\n",
       "      <td>A79538</td>\n",
       "      <td>88</td>\n",
       "    </tr>\n",
       "    <tr>\n",
       "      <th>3</th>\n",
       "      <td>4</td>\n",
       "      <td>S769168</td>\n",
       "      <td>74</td>\n",
       "      <td>A769222</td>\n",
       "      <td>80</td>\n",
       "    </tr>\n",
       "    <tr>\n",
       "      <th>4</th>\n",
       "      <td>5</td>\n",
       "      <td>S609791</td>\n",
       "      <td>83</td>\n",
       "      <td>A609801</td>\n",
       "      <td>74</td>\n",
       "    </tr>\n",
       "    <tr>\n",
       "      <th>...</th>\n",
       "      <td>...</td>\n",
       "      <td>...</td>\n",
       "      <td>...</td>\n",
       "      <td>...</td>\n",
       "      <td>...</td>\n",
       "    </tr>\n",
       "    <tr>\n",
       "      <th>95</th>\n",
       "      <td>96</td>\n",
       "      <td>S285617</td>\n",
       "      <td>77</td>\n",
       "      <td>A285629</td>\n",
       "      <td>87</td>\n",
       "    </tr>\n",
       "    <tr>\n",
       "      <th>96</th>\n",
       "      <td>97</td>\n",
       "      <td>S324135</td>\n",
       "      <td>85</td>\n",
       "      <td>A324151</td>\n",
       "      <td>82</td>\n",
       "    </tr>\n",
       "    <tr>\n",
       "      <th>97</th>\n",
       "      <td>98</td>\n",
       "      <td>S292076</td>\n",
       "      <td>83</td>\n",
       "      <td>A292091</td>\n",
       "      <td>88</td>\n",
       "    </tr>\n",
       "    <tr>\n",
       "      <th>98</th>\n",
       "      <td>99</td>\n",
       "      <td>S936528</td>\n",
       "      <td>82</td>\n",
       "      <td>A936566</td>\n",
       "      <td>91</td>\n",
       "    </tr>\n",
       "    <tr>\n",
       "      <th>99</th>\n",
       "      <td>100</td>\n",
       "      <td>S489010</td>\n",
       "      <td>100</td>\n",
       "      <td>A489031</td>\n",
       "      <td>95</td>\n",
       "    </tr>\n",
       "  </tbody>\n",
       "</table>\n",
       "<p>100 rows × 5 columns</p>\n",
       "</div>"
      ],
      "text/plain": [
       "    Sr No S_Cust_id  Samsung Score Apple_Cust_id  Apple_Score\n",
       "0       1   S336499             94       A336525           82\n",
       "1       2    S73004             99        A73011           83\n",
       "2       3    S79537             74        A79538           88\n",
       "3       4   S769168             74       A769222           80\n",
       "4       5   S609791             83       A609801           74\n",
       "..    ...       ...            ...           ...          ...\n",
       "95     96   S285617             77       A285629           87\n",
       "96     97   S324135             85       A324151           82\n",
       "97     98   S292076             83       A292091           88\n",
       "98     99   S936528             82       A936566           91\n",
       "99    100   S489010            100       A489031           95\n",
       "\n",
       "[100 rows x 5 columns]"
      ]
     },
     "execution_count": 5,
     "metadata": {},
     "output_type": "execute_result"
    }
   ],
   "source": [
    "data"
   ]
  },
  {
   "cell_type": "code",
   "execution_count": 7,
   "metadata": {
    "scrolled": true
   },
   "outputs": [
    {
     "data": {
      "text/plain": [
       "84.9"
      ]
     },
     "execution_count": 7,
     "metadata": {},
     "output_type": "execute_result"
    }
   ],
   "source": [
    "#1.The Samsung Average customer satisfaction score is minimum 75%\n",
    "#One Sample t-test\n",
    "#Ho : Samsung Average Customer Satisfaction Score == 75% \n",
    "#Ha : Samsung Average Customer Satisfaction Score != 75%\n",
    "\n",
    "meansam = data['Samsung Score'].mean()\n",
    "meansam"
   ]
  },
  {
   "cell_type": "code",
   "execution_count": 8,
   "metadata": {},
   "outputs": [
    {
     "data": {
      "text/plain": [
       "63.675000000000004"
      ]
     },
     "execution_count": 8,
     "metadata": {},
     "output_type": "execute_result"
    }
   ],
   "source": [
    "persam = 0.75*84.9\n",
    "persam"
   ]
  },
  {
   "cell_type": "code",
   "execution_count": 13,
   "metadata": {},
   "outputs": [
    {
     "name": "stdout",
     "output_type": "stream",
     "text": [
      "The p value is 7.714674273163513e-33 and the T Score is 17.92\n"
     ]
    }
   ],
   "source": [
    "test = stats.ttest_1samp(a=data['Samsung Score'],popmean = 63.6750000)\n",
    "t_score = round(test.statistic,2)\n",
    "p_value = test.pvalue\n",
    "print(\"The p value is {} and the T Score is {}\".format(p_value,t_score))\n"
   ]
  },
  {
   "cell_type": "code",
   "execution_count": 14,
   "metadata": {},
   "outputs": [],
   "source": [
    "# Since the significance value of the test is less than 0.05, \n",
    "# we reject the null hypothesis. Therefore Samsung Average Customer Satisfaction Score is not equal to 75%. \n",
    "# Hence the hypothesis The Samsung Average customer satisfaction score is minimum 75% is wrong"
   ]
  },
  {
   "cell_type": "code",
   "execution_count": 17,
   "metadata": {},
   "outputs": [],
   "source": [
    "#2.The overall average satisfaction score of Samsung is same as Apple. \n",
    "#There is no significant difference in the satisfaction scores\n",
    "\n",
    "samscore = data['Samsung Score']\n",
    "appscore = data['Apple_Score']"
   ]
  },
  {
   "cell_type": "code",
   "execution_count": 18,
   "metadata": {},
   "outputs": [
    {
     "name": "stdout",
     "output_type": "stream",
     "text": [
      "The average satisfaction scores of Samsung customers is 84.9\n",
      "The average satisfaction scores of Apple customers is 87.81\n"
     ]
    }
   ],
   "source": [
    "print(\"The average satisfaction scores of Samsung customers is {}\".format(samscore.mean()))\n",
    "print(\"The average satisfaction scores of Apple customers is {}\".format(appscore.mean()))"
   ]
  },
  {
   "cell_type": "code",
   "execution_count": 20,
   "metadata": {},
   "outputs": [
    {
     "data": {
      "text/plain": [
       "-1.9064295935043472"
      ]
     },
     "execution_count": 20,
     "metadata": {},
     "output_type": "execute_result"
    }
   ],
   "source": [
    "\n",
    "eq_var = stats.ttest_ind(a= samscore,\n",
    "                b= appscore,\n",
    "                equal_var=True)    # equal variance\n",
    "eq_var.statistic"
   ]
  },
  {
   "cell_type": "code",
   "execution_count": 21,
   "metadata": {},
   "outputs": [
    {
     "data": {
      "text/plain": [
       "-1.9064295935043474"
      ]
     },
     "execution_count": 21,
     "metadata": {},
     "output_type": "execute_result"
    }
   ],
   "source": [
    "uneq_var = stats.ttest_ind(a= samscore,\n",
    "                b= appscore,\n",
    "                equal_var=False)    # UnEqual variance\n",
    "uneq_var.statistic"
   ]
  },
  {
   "cell_type": "code",
   "execution_count": 22,
   "metadata": {},
   "outputs": [
    {
     "data": {
      "text/plain": [
       "-2.220446049250313e-16"
      ]
     },
     "execution_count": 22,
     "metadata": {},
     "output_type": "execute_result"
    }
   ],
   "source": [
    "# We'll cosider equal variance since the t score is not having a huge difference\n",
    "uneq_var.statistic - eq_var.statistic"
   ]
  },
  {
   "cell_type": "code",
   "execution_count": 27,
   "metadata": {},
   "outputs": [
    {
     "name": "stdout",
     "output_type": "stream",
     "text": [
      "-1.9064295935043472 0.05804261444411807\n"
     ]
    }
   ],
   "source": [
    "t = eq_var.statistic\n",
    "p = eq_var.pvalue\n",
    "print(t,p)\n",
    "#For the above test, the t-score is -1.9064295935043472 and the p-value is 0.058042614444118075\n",
    "#We fail to reject null hypothesis"
   ]
  },
  {
   "cell_type": "code",
   "execution_count": null,
   "metadata": {},
   "outputs": [],
   "source": [
    "# Since the significance value of the test is greater than 0.05, \n",
    "# we can safely conclude that The overall average satisfaction score of Samsung is same as Apple. \n",
    "# There is no significant difference in the satisfaction scores. \n",
    "# Hence the hypothesis The overall average satisfaction score of Samsung is same as Apple. \n"
   ]
  }
 ],
 "metadata": {
  "kernelspec": {
   "display_name": "Python 3",
   "language": "python",
   "name": "python3"
  },
  "language_info": {
   "codemirror_mode": {
    "name": "ipython",
    "version": 3
   },
   "file_extension": ".py",
   "mimetype": "text/x-python",
   "name": "python",
   "nbconvert_exporter": "python",
   "pygments_lexer": "ipython3",
   "version": "3.7.4"
  }
 },
 "nbformat": 4,
 "nbformat_minor": 2
}
